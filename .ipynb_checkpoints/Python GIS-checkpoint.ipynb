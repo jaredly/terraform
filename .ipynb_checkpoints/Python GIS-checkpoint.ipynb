{
 "cells": [
  {
   "cell_type": "code",
   "execution_count": 154,
   "metadata": {},
   "outputs": [],
   "source": [
    "import gdal\n",
    "import gdalconst\n",
    "import numpy\n",
    "from stl import mesh\n",
    "np = numpy"
   ]
  },
  {
   "cell_type": "code",
   "execution_count": 155,
   "metadata": {},
   "outputs": [
    {
     "name": "stdout",
     "output_type": "stream",
     "text": [
      "\u001b[33mDEPRECATION: Python 2.7 will reach the end of its life on January 1st, 2020. Please upgrade your Python as Python 2.7 won't be maintained after that date. A future version of pip will drop support for Python 2.7.\u001b[0m\n",
      "Collecting pymesh\n",
      "  Downloading https://files.pythonhosted.org/packages/94/ca/5a49647246c189856a5fb7d36382893330788035d7734b1447e05641baa6/pymesh-1.0.2.tar.gz\n",
      "Requirement already satisfied: numpy in ./.venv/lib/python2.7/site-packages (from pymesh) (1.16.3)\n",
      "Building wheels for collected packages: pymesh\n",
      "  Building wheel for pymesh (setup.py) ... \u001b[?25ldone\n",
      "\u001b[?25h  Stored in directory: /Users/jared/Library/Caches/pip/wheels/a6/d7/76/ed7121207ca5d4310797e72ae0921f54935d5afaf08bd67855\n",
      "Successfully built pymesh\n",
      "Installing collected packages: pymesh\n",
      "Successfully installed pymesh-1.0.2\n"
     ]
    }
   ],
   "source": [
    "!pip install pymesh"
   ]
  },
  {
   "cell_type": "code",
   "execution_count": 148,
   "metadata": {},
   "outputs": [],
   "source": [
    "def convert_file(fname, outfile, sample=5, chunk_config=None):\n",
    "    file = gdal.Open(fname, gdalconst.GA_ReadOnly)\n",
    "    data = file.ReadAsArray(0, 0, file.RasterXSize, file.RasterYSize)\n",
    "    if chunk:\n",
    "        data = chunk(data, *chunk_config)\n",
    "    scaled = data[::sample, ::sample]\n",
    "    m = geo_mesh2(scaled, 0, 0, len(scaled) - 1, len(scaled[0]) - 1)\n",
    "    rescale(m)\n",
    "    print 'ok'\n",
    "    mesh.Mesh(m).save(outfile)"
   ]
  },
  {
   "cell_type": "code",
   "execution_count": 152,
   "metadata": {},
   "outputs": [
    {
     "name": "stdout",
     "output_type": "stream",
     "text": [
      "2702\n",
      "2702\n",
      "ok\n"
     ]
    }
   ],
   "source": [
    "# Timp at 1/3 arc second\n",
    "convert_file('./raw_data/USGS_NED_13_n41w112_ArcGrid/grdn41w112_13/', 'timp_3.stl', sample=1, chunk_config=(1-.38, 1-.66, .25, .25))"
   ]
  },
  {
   "cell_type": "code",
   "execution_count": 123,
   "metadata": {},
   "outputs": [
    {
     "name": "stdout",
     "output_type": "stream",
     "text": [
      "719\n",
      "719\n",
      "ok\n",
      "719\n",
      "719\n",
      "ok\n",
      "719\n",
      "719\n",
      "ok\n",
      "719\n",
      "719\n",
      "ok\n"
     ]
    }
   ],
   "source": [
    "# Overview files, sampled at 5 arc seconds\n",
    "# Wasatch\n",
    "convert_file('./raw_data/N039W111/N039W111_AVE_DSM.tif', 'n39w111.stl')\n",
    "convert_file('./raw_data/N039W112/N039W112_AVE_DSM.tif', 'n39w112.stl')\n",
    "convert_file('./raw_data/N040W112/N040W112_AVE_DSM.tif', 'n40w112.stl')\n",
    "# Grand Canyon\n",
    "convert_file('./raw_data/N036W113/N036W113_AVE_DSM.tif', 'n36w113.stl')"
   ]
  },
  {
   "cell_type": "code",
   "execution_count": 115,
   "metadata": {},
   "outputs": [],
   "source": [
    "def rescale(m):\n",
    "    m['vectors'][:,:,0] /= m['vectors'][:,:,0].max() / 10.0\n",
    "    m['vectors'][:,:,1] /= m['vectors'][:,:,1].max() / 10.0\n",
    "    m['vectors'][:,:,2] /= 4000"
   ]
  },
  {
   "cell_type": "code",
   "execution_count": 125,
   "metadata": {},
   "outputs": [],
   "source": [
    "def load(fname):\n",
    "    file = gdal.Open(fname, gdalconst.GA_ReadOnly)\n",
    "    return file.ReadAsArray(0, 0, file.RasterXSize, file.RasterYSize)"
   ]
  },
  {
   "cell_type": "code",
   "execution_count": 126,
   "metadata": {},
   "outputs": [],
   "source": [
    "data = load('./raw_data/N040W112/N040W112_AVE_DSM.tif')"
   ]
  },
  {
   "cell_type": "code",
   "execution_count": 139,
   "metadata": {},
   "outputs": [
    {
     "name": "stdout",
     "output_type": "stream",
     "text": [
      "935\n",
      "935\n"
     ]
    },
    {
     "ename": "ValueError",
     "evalue": "could not broadcast input array from shape (872356,4,3) into shape (872356,3,3)",
     "output_type": "error",
     "traceback": [
      "\u001b[0;31m---------------------------------------------------------------------------\u001b[0m",
      "\u001b[0;31mValueError\u001b[0m                                Traceback (most recent call last)",
      "\u001b[0;32m<ipython-input-139-68683d94b92d>\u001b[0m in \u001b[0;36m<module>\u001b[0;34m()\u001b[0m\n\u001b[1;32m      1\u001b[0m \u001b[0mscaled\u001b[0m \u001b[0;34m=\u001b[0m \u001b[0mchunk\u001b[0m\u001b[0;34m(\u001b[0m\u001b[0mdata\u001b[0m\u001b[0;34m,\u001b[0m \u001b[0;36m1\u001b[0m\u001b[0;34m-\u001b[0m\u001b[0;36m0.37\u001b[0m\u001b[0;34m,\u001b[0m \u001b[0;36m1\u001b[0m\u001b[0;34m-\u001b[0m\u001b[0;36m0.68\u001b[0m\u001b[0;34m,\u001b[0m \u001b[0;36m0.26\u001b[0m\u001b[0;34m,\u001b[0m \u001b[0;36m0.26\u001b[0m\u001b[0;34m)\u001b[0m\u001b[0;34m\u001b[0m\u001b[0m\n\u001b[0;32m----> 2\u001b[0;31m \u001b[0mm\u001b[0m \u001b[0;34m=\u001b[0m \u001b[0mgeo_mesh2\u001b[0m\u001b[0;34m(\u001b[0m\u001b[0mscaled\u001b[0m\u001b[0;34m,\u001b[0m \u001b[0;36m0\u001b[0m\u001b[0;34m,\u001b[0m \u001b[0;36m0\u001b[0m\u001b[0;34m,\u001b[0m \u001b[0mlen\u001b[0m\u001b[0;34m(\u001b[0m\u001b[0mscaled\u001b[0m\u001b[0;34m)\u001b[0m \u001b[0;34m-\u001b[0m \u001b[0;36m1\u001b[0m\u001b[0;34m,\u001b[0m \u001b[0mlen\u001b[0m\u001b[0;34m(\u001b[0m\u001b[0mscaled\u001b[0m\u001b[0;34m[\u001b[0m\u001b[0;36m0\u001b[0m\u001b[0;34m]\u001b[0m\u001b[0;34m)\u001b[0m \u001b[0;34m-\u001b[0m \u001b[0;36m1\u001b[0m\u001b[0;34m)\u001b[0m\u001b[0;34m\u001b[0m\u001b[0m\n\u001b[0m\u001b[1;32m      3\u001b[0m \u001b[0mrescale\u001b[0m\u001b[0;34m(\u001b[0m\u001b[0mm\u001b[0m\u001b[0;34m)\u001b[0m\u001b[0;34m\u001b[0m\u001b[0m\n\u001b[1;32m      4\u001b[0m \u001b[0;32mprint\u001b[0m \u001b[0;34m'ok'\u001b[0m\u001b[0;34m\u001b[0m\u001b[0m\n\u001b[1;32m      5\u001b[0m \u001b[0mmesh\u001b[0m\u001b[0;34m.\u001b[0m\u001b[0mMesh\u001b[0m\u001b[0;34m(\u001b[0m\u001b[0mm\u001b[0m\u001b[0;34m)\u001b[0m\u001b[0;34m.\u001b[0m\u001b[0msave\u001b[0m\u001b[0;34m(\u001b[0m\u001b[0;34m'./timp.stl'\u001b[0m\u001b[0;34m)\u001b[0m\u001b[0;34m\u001b[0m\u001b[0m\n",
      "\u001b[0;32m<ipython-input-128-ebce252437c5>\u001b[0m in \u001b[0;36mgeo_mesh2\u001b[0;34m(geo, x, y, w, h)\u001b[0m\n\u001b[1;32m     23\u001b[0m     \u001b[0mtotal\u001b[0m \u001b[0;34m=\u001b[0m \u001b[0mp0\u001b[0m \u001b[0;31m# numpy.concatenate([p0, p1])\u001b[0m\u001b[0;34m\u001b[0m\u001b[0m\n\u001b[1;32m     24\u001b[0m     \u001b[0mm\u001b[0m \u001b[0;34m=\u001b[0m \u001b[0mnumpy\u001b[0m\u001b[0;34m.\u001b[0m\u001b[0mzeros\u001b[0m\u001b[0;34m(\u001b[0m\u001b[0;34m(\u001b[0m\u001b[0mw\u001b[0m \u001b[0;34m-\u001b[0m \u001b[0;36m1\u001b[0m\u001b[0;34m)\u001b[0m \u001b[0;34m*\u001b[0m \u001b[0;34m(\u001b[0m\u001b[0mh\u001b[0m \u001b[0;34m-\u001b[0m \u001b[0;36m1\u001b[0m\u001b[0;34m)\u001b[0m\u001b[0;34m,\u001b[0m \u001b[0mdtype\u001b[0m\u001b[0;34m=\u001b[0m\u001b[0mmesh\u001b[0m\u001b[0;34m.\u001b[0m\u001b[0mMesh\u001b[0m\u001b[0;34m.\u001b[0m\u001b[0mdtype\u001b[0m\u001b[0;34m)\u001b[0m\u001b[0;34m\u001b[0m\u001b[0m\n\u001b[0;32m---> 25\u001b[0;31m     \u001b[0mm\u001b[0m\u001b[0;34m[\u001b[0m\u001b[0;34m'vectors'\u001b[0m\u001b[0;34m]\u001b[0m \u001b[0;34m=\u001b[0m \u001b[0mtotal\u001b[0m\u001b[0;34m\u001b[0m\u001b[0m\n\u001b[0m\u001b[1;32m     26\u001b[0m     \u001b[0;32mreturn\u001b[0m \u001b[0mm\u001b[0m\u001b[0;34m\u001b[0m\u001b[0m\n",
      "\u001b[0;31mValueError\u001b[0m: could not broadcast input array from shape (872356,4,3) into shape (872356,3,3)"
     ]
    }
   ],
   "source": [
    "scaled = chunk(data, 1-0.37, 1-0.68, 0.26, 0.26)\n",
    "m = geo_mesh2(scaled, 0, 0, len(scaled) - 1, len(scaled[0]) - 1)\n",
    "rescale(m)\n",
    "print 'ok'\n",
    "mesh.Mesh(m).save('./timp.stl')"
   ]
  },
  {
   "cell_type": "code",
   "execution_count": 129,
   "metadata": {},
   "outputs": [
    {
     "name": "stdout",
     "output_type": "stream",
     "text": [
      "719\n",
      "719\n"
     ]
    },
    {
     "ename": "ValueError",
     "evalue": "could not broadcast input array from shape (515524,4,3) into shape (515524,3,3)",
     "output_type": "error",
     "traceback": [
      "\u001b[0;31m---------------------------------------------------------------------------\u001b[0m",
      "\u001b[0;31mValueError\u001b[0m                                Traceback (most recent call last)",
      "\u001b[0;32m<ipython-input-129-2c80c9b49419>\u001b[0m in \u001b[0;36m<module>\u001b[0;34m()\u001b[0m\n\u001b[1;32m      2\u001b[0m \u001b[0mdata\u001b[0m \u001b[0;34m=\u001b[0m \u001b[0mload\u001b[0m\u001b[0;34m(\u001b[0m\u001b[0;34m'./N036W113/N036W113_AVE_DSM.tif'\u001b[0m\u001b[0;34m)\u001b[0m\u001b[0;34m\u001b[0m\u001b[0m\n\u001b[1;32m      3\u001b[0m \u001b[0mscaled\u001b[0m \u001b[0;34m=\u001b[0m \u001b[0mchunk\u001b[0m\u001b[0;34m(\u001b[0m\u001b[0mdata\u001b[0m\u001b[0;34m,\u001b[0m \u001b[0;36m1\u001b[0m\u001b[0;34m-\u001b[0m\u001b[0;36m0.2\u001b[0m\u001b[0;34m,\u001b[0m \u001b[0;36m1\u001b[0m\u001b[0;34m-\u001b[0m\u001b[0;36m0.2\u001b[0m\u001b[0;34m,\u001b[0m \u001b[0;36m0.2\u001b[0m\u001b[0;34m,\u001b[0m \u001b[0;36m0.2\u001b[0m\u001b[0;34m)\u001b[0m\u001b[0;34m\u001b[0m\u001b[0m\n\u001b[0;32m----> 4\u001b[0;31m \u001b[0mm\u001b[0m \u001b[0;34m=\u001b[0m \u001b[0mgeo_mesh2\u001b[0m\u001b[0;34m(\u001b[0m\u001b[0mscaled\u001b[0m\u001b[0;34m,\u001b[0m \u001b[0;36m0\u001b[0m\u001b[0;34m,\u001b[0m \u001b[0;36m0\u001b[0m\u001b[0;34m,\u001b[0m \u001b[0mlen\u001b[0m\u001b[0;34m(\u001b[0m\u001b[0mscaled\u001b[0m\u001b[0;34m)\u001b[0m \u001b[0;34m-\u001b[0m \u001b[0;36m1\u001b[0m\u001b[0;34m,\u001b[0m \u001b[0mlen\u001b[0m\u001b[0;34m(\u001b[0m\u001b[0mscaled\u001b[0m\u001b[0;34m[\u001b[0m\u001b[0;36m0\u001b[0m\u001b[0;34m]\u001b[0m\u001b[0;34m)\u001b[0m \u001b[0;34m-\u001b[0m \u001b[0;36m1\u001b[0m\u001b[0;34m)\u001b[0m\u001b[0;34m\u001b[0m\u001b[0m\n\u001b[0m\u001b[1;32m      5\u001b[0m \u001b[0mrescale\u001b[0m\u001b[0;34m(\u001b[0m\u001b[0mm\u001b[0m\u001b[0;34m)\u001b[0m\u001b[0;34m\u001b[0m\u001b[0m\n\u001b[1;32m      6\u001b[0m \u001b[0;32mprint\u001b[0m \u001b[0;34m'ok'\u001b[0m\u001b[0;34m\u001b[0m\u001b[0m\n",
      "\u001b[0;32m<ipython-input-128-ebce252437c5>\u001b[0m in \u001b[0;36mgeo_mesh2\u001b[0;34m(geo, x, y, w, h)\u001b[0m\n\u001b[1;32m     23\u001b[0m     \u001b[0mtotal\u001b[0m \u001b[0;34m=\u001b[0m \u001b[0mp0\u001b[0m \u001b[0;31m# numpy.concatenate([p0, p1])\u001b[0m\u001b[0;34m\u001b[0m\u001b[0m\n\u001b[1;32m     24\u001b[0m     \u001b[0mm\u001b[0m \u001b[0;34m=\u001b[0m \u001b[0mnumpy\u001b[0m\u001b[0;34m.\u001b[0m\u001b[0mzeros\u001b[0m\u001b[0;34m(\u001b[0m\u001b[0;34m(\u001b[0m\u001b[0mw\u001b[0m \u001b[0;34m-\u001b[0m \u001b[0;36m1\u001b[0m\u001b[0;34m)\u001b[0m \u001b[0;34m*\u001b[0m \u001b[0;34m(\u001b[0m\u001b[0mh\u001b[0m \u001b[0;34m-\u001b[0m \u001b[0;36m1\u001b[0m\u001b[0;34m)\u001b[0m\u001b[0;34m,\u001b[0m \u001b[0mdtype\u001b[0m\u001b[0;34m=\u001b[0m\u001b[0mmesh\u001b[0m\u001b[0;34m.\u001b[0m\u001b[0mMesh\u001b[0m\u001b[0;34m.\u001b[0m\u001b[0mdtype\u001b[0m\u001b[0;34m)\u001b[0m\u001b[0;34m\u001b[0m\u001b[0m\n\u001b[0;32m---> 25\u001b[0;31m     \u001b[0mm\u001b[0m\u001b[0;34m[\u001b[0m\u001b[0;34m'vectors'\u001b[0m\u001b[0;34m]\u001b[0m \u001b[0;34m=\u001b[0m \u001b[0mtotal\u001b[0m\u001b[0;34m\u001b[0m\u001b[0m\n\u001b[0m\u001b[1;32m     26\u001b[0m     \u001b[0;32mreturn\u001b[0m \u001b[0mm\u001b[0m\u001b[0;34m\u001b[0m\u001b[0m\n",
      "\u001b[0;31mValueError\u001b[0m: could not broadcast input array from shape (515524,4,3) into shape (515524,3,3)"
     ]
    }
   ],
   "source": [
    "# Grand Canyon?\n",
    "data = load('./raw_data/N036W113/N036W113_AVE_DSM.tif')\n",
    "scaled = chunk(data, 1-0.2, 1-0.2, 0.2, 0.2)\n",
    "m = geo_mesh2(scaled, 0, 0, len(scaled) - 1, len(scaled[0]) - 1)\n",
    "rescale(m)\n",
    "print 'ok'\n",
    "mesh.Mesh(m).save('./grand_canyon.stl')"
   ]
  },
  {
   "cell_type": "code",
   "execution_count": 117,
   "metadata": {},
   "outputs": [],
   "source": [
    "scaled = data[::5, ::5]"
   ]
  },
  {
   "cell_type": "code",
   "execution_count": 119,
   "metadata": {},
   "outputs": [],
   "source": [
    "def chunk(data, x, y, w, h):\n",
    "    fw = len(data)\n",
    "    fh = len(data[0])\n",
    "    x0 = int(fw * (x - w/2))\n",
    "    x1 = int(fw * (x + w/2))\n",
    "    y0 = int(fh * (y - h/2))\n",
    "    y1 = int(fh * (y + h/2))\n",
    "    return data[x0:x1,y0:y1]\n",
    "# (-3.7, -6.8), w 2.4 to a side"
   ]
  },
  {
   "cell_type": "code",
   "execution_count": 140,
   "metadata": {},
   "outputs": [],
   "source": [
    "def geo_mesh2(geo, x, y, w, h):\n",
    "    data = numpy.zeros(w * h * 3).reshape((w, h, 3))\n",
    "    print len(data)\n",
    "    i0 = numpy.indices((w, h))\n",
    "    print len(data)\n",
    "    indices = i0.swapaxes(0,2).swapaxes(0,1)\n",
    "    data[:,:,:2] = indices\n",
    "    min = geo.min()\n",
    "    data[:, :, 2] = (geo[x:x+w,y:y+h] - min)\n",
    "    # now we have x, y, z just fine\n",
    "    # return data\n",
    "    p0 = numpy.array([\n",
    "        data[:-1,:-1].reshape((-1, 3)),\n",
    "        data[1:, :-1].reshape((-1, 3)),\n",
    "        data[1:, 1:].reshape((-1, 3))\n",
    "    ]).swapaxes(0, 1)\n",
    "    p1 = numpy.array([\n",
    "        data[:-1, :-1].reshape((-1, 3)),\n",
    "        data[1:, 1:].reshape((-1, 3)),\n",
    "        data[:-1, 1:].reshape((-1, 3))\n",
    "    ]).swapaxes(0, 1)\n",
    "    total = numpy.concatenate([p0, p1])\n",
    "    m = numpy.zeros((w - 1) * (h - 1) * 2, dtype=mesh.Mesh.dtype)\n",
    "    m['vectors'] = total\n",
    "    return m"
   ]
  },
  {
   "cell_type": "code",
   "execution_count": null,
   "metadata": {},
   "outputs": [],
   "source": [
    "def geo_pymesh(geo, x, y, w, h):\n",
    "    data = numpy.zeros(w * h * 3).reshape((w, h, 3))\n",
    "    print len(data)\n",
    "    i0 = numpy.indices((w, h))\n",
    "    print len(data)\n",
    "    indices = i0.swapaxes(0,2).swapaxes(0,1)\n",
    "    data[:,:,:2] = indices\n",
    "    min = geo.min()\n",
    "    data[:, :, 2] = (geo[x:x+w,y:y+h] - min)\n",
    "    vertices = data.reshape((-1, 3))\n",
    "    faces = numpy.array([\n",
    "        \n",
    "    ])\n",
    "    faces = numpy.array([\n",
    "        data[:-1,:-1].reshape((-1, 3)),\n",
    "        data[1:, :-1].reshape((-1, 3)),\n",
    "        data[1:, 1:].reshape((-1, 3)),\n",
    "        data[:-1, 1:].reshape((-1, 3)),\n",
    "    ]).swapaxes(0, 1)\n",
    "    m = numpy.zeros((w - 1) * (h - 1) * 2, dtype=mesh.Mesh.dtype)\n",
    "    m['vectors'] = total\n",
    "    return m"
   ]
  },
  {
   "cell_type": "code",
   "execution_count": 147,
   "metadata": {},
   "outputs": [],
   "source": [
    "def show_numpy(data):\n",
    "    # Optionally render the rotated cube faces\n",
    "    from matplotlib import pyplot\n",
    "    from mpl_toolkits import mplot3d\n",
    "\n",
    "    # Create a new plot\n",
    "    figure = pyplot.figure()\n",
    "    axes = mplot3d.Axes3D(figure)\n",
    "\n",
    "    # Render the cube faces\n",
    "    m = mesh.Mesh(data.copy())\n",
    "    axes.add_collection3d(mplot3d.art3d.Poly3DCollection(m.vectors))\n",
    "\n",
    "    # Auto scale to the mesh size\n",
    "    # scale = m.points.flatten()\n",
    "    # axes.auto_scale_xyz(scale, scale, scale)\n",
    "    # axes.auto_scale_xyz(m.points[::3].flatten(), m.points[1::3].flatten(), m.points[2::3].flatten())\n",
    "    axes.auto_scale_xyz(m.vectors[:,:,0].flatten(), m.vectors[:,:,1].flatten(), m.vectors[:,:,2].flatten())\n",
    "\n",
    "    # Show the plot to the screen\n",
    "    pyplot.show()"
   ]
  },
  {
   "cell_type": "code",
   "execution_count": 82,
   "metadata": {},
   "outputs": [
    {
     "name": "stdout",
     "output_type": "stream",
     "text": [
      "3599\n",
      "3599\n",
      "ok\n"
     ]
    }
   ],
   "source": [
    "m = geo_mesh2(data, 0, 0, len(data) - 1, len(data[0]) - 1)\n",
    "print 'ok'\n",
    "mesh.Mesh(m).save('./mountains.stl')"
   ]
  },
  {
   "cell_type": "code",
   "execution_count": 141,
   "metadata": {},
   "outputs": [
    {
     "data": {
      "image/png": "[encoded data removed]",
      "text/plain": [
       "<Figure size 432x288 with 1 Axes>"
      ]
     },
     "metadata": {
      "needs_background": "light"
     },
     "output_type": "display_data"
    }
   ],
   "source": [
    "# Create 3 faces of a cube\n",
    "mdata = numpy.zeros(6, dtype=mesh.Mesh.dtype)\n",
    "\n",
    "# Top of the cube\n",
    "mdata['vectors'][0] = numpy.array([[0, 1, 1],\n",
    "                                  [1, 0, 1],\n",
    "                                  [0, 0, 1]])\n",
    "mdata['vectors'][1] = numpy.array([[1, 0, 1],\n",
    "                                  [0, 1, 1],\n",
    "                                  [1, 1, 1]])\n",
    "# Front face\n",
    "mdata['vectors'][2] = numpy.array([[1, 0, 0],\n",
    "                                  [1, 0, 1],\n",
    "                                  [1, 1, 0]])\n",
    "mdata['vectors'][3] = numpy.array([[1, 1, 1],\n",
    "                                  [1, 0, 1],\n",
    "                                  [1, 1, 0]])\n",
    "# Left face\n",
    "mdata['vectors'][4] = numpy.array([[0, 0, 0],\n",
    "                                  [1, 0, 0],\n",
    "                                  [1, 0, 1]])\n",
    "mdata['vectors'][5] = numpy.array([[0, 0, 0],\n",
    "                                  [0, 0, 1],\n",
    "                                  [1, 0, 1]])\n",
    "\n",
    "# Since the cube faces are from 0 to 1 we can move it to the middle by\n",
    "# substracting .5\n",
    "mdata['vectors'] -= .5\n",
    "\n",
    "# Generate 4 different meshes so we can rotate them later\n",
    "meshes = [mesh.Mesh(mdata.copy()) for _ in range(4)]\n",
    "\n",
    "# Rotate 90 degrees over the Y axis\n",
    "meshes[0].rotate([0.0, 0.5, 0.0], math.radians(90))\n",
    "\n",
    "# Translate 2 points over the X axis\n",
    "meshes[1].x += 2\n",
    "\n",
    "# Rotate 90 degrees over the X axis\n",
    "meshes[2].rotate([0.5, 0.0, 0.0], math.radians(90))\n",
    "# Translate 2 points over the X and Y points\n",
    "meshes[2].x += 2\n",
    "meshes[2].y += 2\n",
    "\n",
    "# Rotate 90 degrees over the X and Y axis\n",
    "meshes[3].rotate([0.5, 0.0, 0.0], math.radians(90))\n",
    "meshes[3].rotate([0.0, 0.5, 0.0], math.radians(90))\n",
    "# Translate 2 points over the Y axis\n",
    "meshes[3].y += 2\n",
    "\n",
    "show_numpy(mdata)\n"
   ]
  }
 ],
 "metadata": {
  "kernelspec": {
   "display_name": "Python 2",
   "language": "python",
   "name": "python2"
  },
  "language_info": {
   "codemirror_mode": {
    "name": "ipython",
    "version": 2
   },
   "file_extension": ".py",
   "mimetype": "text/x-python",
   "name": "python",
   "nbconvert_exporter": "python",
   "pygments_lexer": "ipython2",
   "version": "2.7.15"
  }
 },
 "nbformat": 4,
 "nbformat_minor": 2
}
